{
 "cells": [
  {
   "cell_type": "markdown",
   "metadata": {},
   "source": [
    "# Conditional Graph\n",
    "\n",
    "Objectives:\n",
    "\n",
    "    1. Implement conditional logic to route the flow of data to different nodes\n",
    "\n",
    "    2. Use START and END nodes to manage entry and exit points explicitly.\n",
    "\n",
    "    3. Design multiple nodes to perform different operations (addition, subtraction).\n",
    "\n",
    "Create a router node to handle decision-making and control gras' flow.\n",
    "\n",
    "Main Goal: How to use \"add_conditional_edges()\""
   ]
  },
  {
   "cell_type": "code",
   "execution_count": 1,
   "metadata": {},
   "outputs": [],
   "source": [
    "from typing import TypedDict\n",
    "from langgraph.graph import StateGraph, START, END"
   ]
  },
  {
   "cell_type": "code",
   "execution_count": 2,
   "metadata": {},
   "outputs": [],
   "source": [
    "class AgentState(TypedDict):\n",
    "    number1 : int \n",
    "    operation : str\n",
    "    number2 : int\n",
    "    finalNumber : int"
   ]
  },
  {
   "cell_type": "code",
   "execution_count": 6,
   "metadata": {},
   "outputs": [],
   "source": [
    "def adder(state:AgentState) -> AgentState:\n",
    "    \"\"\"This node adds the 2 numbers\"\"\"\n",
    "    state[\"finalNumber\"] = state[\"number1\"] + state[\"number2\"]\n",
    "    return state\n",
    "\n",
    "def subtractor(state:AgentState) -> AgentState:\n",
    "    \"\"\"This node subtract the 2 numbers\"\"\"\n",
    "    state[\"finalNumber\"] = state['number1'] - state[\"number2\"]\n",
    "    return state\n",
    "\n",
    "def decide_next_node(state:AgentState) -> AgentState:\n",
    "    \"\"\"This node will select the next node of the graph\"\"\"\n",
    "    \n",
    "    if state['operation'] == \"+\":\n",
    "        return \"additional_operation\"\n",
    "    \n",
    "    elif state['operation'] == \"-\":\n",
    "        return \"substration_operation\"\n",
    "    \n",
    "    "
   ]
  },
  {
   "cell_type": "code",
   "execution_count": 9,
   "metadata": {},
   "outputs": [],
   "source": [
    "graph = StateGraph(AgentState)\n",
    "\n",
    "graph.add_node(\"add_node\", adder)\n",
    "graph.add_node(\"subtract_node\", subtractor)\n",
    "graph.add_node(\"router\", lambda state:state) # passthrough function, the state will be input and the state will be the output as well\n",
    "\n",
    "graph.add_edge(START, \"router\")\n",
    "\n",
    "graph.add_conditional_edges(\n",
    "    \"router\",\n",
    "    decide_next_node,\n",
    "    {\n",
    "        \"additional_operation\" : \"add_node\",\n",
    "        \"substration_operation\" : \"subtract_node\"\n",
    "    }\n",
    ")\n",
    "\n",
    "graph.add_edge(\"add_node\", END)\n",
    "graph.add_edge(\"subtract_node\", END)\n",
    "app = graph.compile()"
   ]
  },
  {
   "cell_type": "code",
   "execution_count": 10,
   "metadata": {},
   "outputs": [
    {
     "data": {
      "image/png": "[encoded data removed]",
      "text/plain": [
       "<IPython.core.display.Image object>"
      ]
     },
     "metadata": {},
     "output_type": "display_data"
    }
   ],
   "source": [
    "from IPython.display import Image, display\n",
    "display(Image(app.get_graph().draw_mermaid_png()))"
   ]
  },
  {
   "cell_type": "code",
   "execution_count": 11,
   "metadata": {},
   "outputs": [
    {
     "name": "stdout",
     "output_type": "stream",
     "text": [
      "{'number1': 10, 'operation': '-', 'number2': 5, 'finalNumber': 5}\n"
     ]
    }
   ],
   "source": [
    "initial_state1 = AgentState(number1 = 10, operation= \"-\", number2 =5)\n",
    "print(app.invoke(initial_state1))"
   ]
  },
  {
   "cell_type": "code",
   "execution_count": 13,
   "metadata": {},
   "outputs": [
    {
     "name": "stdout",
     "output_type": "stream",
     "text": [
      "{'number1': 10, 'operation': '+', 'number2': 5, 'finalNumber': 15}\n"
     ]
    }
   ],
   "source": [
    "initial_state2 = AgentState(number1 = 10, operation= \"+\", number2 =5)\n",
    "print(app.invoke(initial_state2))"
   ]
  }
 ],
 "metadata": {
  "language_info": {
   "name": "python"
  }
 },
 "nbformat": 4,
 "nbformat_minor": 2
}
