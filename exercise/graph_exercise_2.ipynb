{
 "cells": [
  {
   "cell_type": "markdown",
   "metadata": {},
   "source": [
    "## Exercice for Graph II\n",
    "\n",
    "Your task:\n",
    "\n",
    "Create a Graph where you pass in a single list of integers along with a name and an operation. If the operation is a \"+\", you add the elements and if it is a \"*\". you multiply the elements, all within the same node.\n",
    "\n",
    "    - Input: {\"name\": \"Jack Sparrow\", \"values\": [1,2,3,4] , \"operation\": \"*\"}\n",
    "\n",
    "    - Output: \"Hi Jack Sparrow, your answer is: 24\"\n",
    "\n",
    "Hint: You need an if-statement in your node!"
   ]
  },
  {
   "cell_type": "code",
   "execution_count": 2,
   "metadata": {},
   "outputs": [],
   "source": [
    "from typing import Dict, TypedDict, List, Union\n",
    "from langgraph.graph import StateGraph "
   ]
  },
  {
   "cell_type": "code",
   "execution_count": 3,
   "metadata": {},
   "outputs": [],
   "source": [
    "class AgentState(TypedDict):\n",
    "    values: List[int]\n",
    "    name : str\n",
    "    operation : str\n",
    "    result : str"
   ]
  },
  {
   "cell_type": "code",
   "execution_count": 4,
   "metadata": {},
   "outputs": [],
   "source": [
    "def square(x: Union[int, float]) -> float:\n",
    "    return x * x"
   ]
  },
  {
   "cell_type": "code",
   "execution_count": 5,
   "metadata": {},
   "outputs": [],
   "source": [
    "def process_op_values(state: AgentState) -> AgentState:\n",
    "    \"\"\" This function handles multiple different inputs\"\"\"\n",
    "    \n",
    "    if state['operation'] == \"+\":\n",
    "        state['result'] = f\"Hi {state['name']}, your answer is: {sum(state['values'])}\"\n",
    "    elif state['operation'] == \"*\":\n",
    "        # Calculate the product of all values in the list\n",
    "        product = 1\n",
    "        for value in state['values']:\n",
    "            product *= value\n",
    "        state['result'] = f\"Hi {state['name']}, your answer is: {product}\"\n",
    "        \n",
    "    return state"
   ]
  },
  {
   "cell_type": "code",
   "execution_count": 6,
   "metadata": {},
   "outputs": [],
   "source": [
    "graph = StateGraph(AgentState)\n",
    "\n",
    "graph.add_node(\"processor_op\", process_op_values)\n",
    "graph.set_entry_point(\"processor_op\")\n",
    "graph.set_finish_point(\"processor_op\")\n",
    "app = graph.compile()"
   ]
  },
  {
   "cell_type": "code",
   "execution_count": 7,
   "metadata": {},
   "outputs": [
    {
     "data": {
      "image/png": "[encoded data removed]",
      "text/plain": [
       "<IPython.core.display.Image object>"
      ]
     },
     "metadata": {},
     "output_type": "display_data"
    }
   ],
   "source": [
    "from IPython.display import Image, display\n",
    "display(Image(app.get_graph().draw_mermaid_png()))"
   ]
  },
  {
   "cell_type": "code",
   "execution_count": 9,
   "metadata": {},
   "outputs": [
    {
     "name": "stdout",
     "output_type": "stream",
     "text": [
      "Hi Steve, your answer is: 24\n"
     ]
    }
   ],
   "source": [
    "answer = app.invoke({'values':[1,2,3,4], \"name\": \"Steve\", \"operation\" : \"*\"})\n",
    "print(answer['result'])"
   ]
  },
  {
   "cell_type": "code",
   "execution_count": null,
   "metadata": {},
   "outputs": [],
   "source": []
  }
 ],
 "metadata": {
  "language_info": {
   "name": "python"
  }
 },
 "nbformat": 4,
 "nbformat_minor": 2
}
