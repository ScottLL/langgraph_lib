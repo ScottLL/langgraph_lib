{
 "cells": [
  {
   "cell_type": "markdown",
   "metadata": {},
   "source": [
    "# Multiple inputs Graph\n",
    "\n",
    "Objectives ✅:\n",
    "1. Define a more complex AgentState\n",
    "2. Create a processing node that performs operations on list data.\n",
    "3. Set up a LangGraph that processes and outputs computed results.\n",
    "4. Invoke the graph with structured inputs and retrieve outputs.\n",
    "\n",
    "Main Goal: Learn how to handle multiple inputs\n"
   ]
  },
  {
   "cell_type": "code",
   "execution_count": 1,
   "metadata": {},
   "outputs": [],
   "source": [
    "from typing import Dict, TypedDict, List\n",
    "from langgraph.graph import StateGraph "
   ]
  },
  {
   "cell_type": "code",
   "execution_count": 2,
   "metadata": {},
   "outputs": [],
   "source": [
    "class AgentState(TypedDict):\n",
    "    values: List[int]\n",
    "    name : str\n",
    "    result : str"
   ]
  },
  {
   "cell_type": "code",
   "execution_count": null,
   "metadata": {},
   "outputs": [],
   "source": []
  }
 ],
 "metadata": {
  "language_info": {
   "name": "python"
  }
 },
 "nbformat": 4,
 "nbformat_minor": 2
}
