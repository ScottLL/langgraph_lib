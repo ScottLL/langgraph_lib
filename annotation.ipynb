{
 "cells": [
  {
   "cell_type": "code",
   "execution_count": 1,
   "metadata": {},
   "outputs": [],
   "source": [
    "# Dictionary\n",
    "\n",
    "## normal dictionary \n",
    "movie = {\"name\": \"Avengers Endgame\", \"year\":2019}\n",
    "\n"
   ]
  },
  {
   "cell_type": "code",
   "execution_count": 2,
   "metadata": {},
   "outputs": [],
   "source": [
    "## Typed dictionary \n",
    "from typing import TypedDict\n",
    "class Movie(TypedDict):\n",
    "    name : str\n",
    "    year : int \n",
    "    \n",
    "movie = Movie(name = \"Avengers Endgame\", year = 2019)\n",
    "\n"
   ]
  },
  {
   "cell_type": "code",
   "execution_count": 4,
   "metadata": {},
   "outputs": [
    {
     "data": {
      "text/plain": [
       "1.522756"
      ]
     },
     "execution_count": 4,
     "metadata": {},
     "output_type": "execute_result"
    }
   ],
   "source": [
    "## Union \n",
    "from typing import Union\n",
    "\n",
    "def square(x: Union[int, float]) -> float:\n",
    "    return x * x\n",
    "\n",
    "x = 5\n",
    "x = 1.234\n",
    "# x = \"I'm iron man\" # not work\n",
    "\n",
    "# square(x)"
   ]
  },
  {
   "cell_type": "code",
   "execution_count": 8,
   "metadata": {},
   "outputs": [
    {
     "name": "stdout",
     "output_type": "stream",
     "text": [
      "Hi there, Scott!\n"
     ]
    }
   ],
   "source": [
    "# Optional \n",
    "\n",
    "from typing import Optional \n",
    "\n",
    "def nice_message(name: Optional[str]) -> None:\n",
    "    if name is None:\n",
    "        print('Hey random person!')\n",
    "    else:\n",
    "        print(f\"Hi there, {name}!\")\n",
    "        \n",
    "nice_message('Scott')"
   ]
  },
  {
   "cell_type": "code",
   "execution_count": 9,
   "metadata": {},
   "outputs": [
    {
     "name": "stdout",
     "output_type": "stream",
     "text": [
      "I pretent to be Batman in the shower sometimes\n"
     ]
    }
   ],
   "source": [
    "# Any\n",
    "from typing import Any\n",
    "\n",
    "def print_value(x:Any):\n",
    "    print(x)\n",
    "    \n",
    "print_value(\"I pretent to be Batman in the shower sometimes\")"
   ]
  },
  {
   "cell_type": "code",
   "execution_count": 10,
   "metadata": {},
   "outputs": [
    {
     "data": {
      "text/plain": [
       "100"
      ]
     },
     "execution_count": 10,
     "metadata": {},
     "output_type": "execute_result"
    }
   ],
   "source": [
    "# Lambda function\n",
    "square = lambda x: x * x\n",
    "square(10)"
   ]
  },
  {
   "cell_type": "code",
   "execution_count": 12,
   "metadata": {},
   "outputs": [
    {
     "name": "stdout",
     "output_type": "stream",
     "text": [
      "[1, 4, 9, 16]\n"
     ]
    }
   ],
   "source": [
    "nums = [1,2,3,4]\n",
    "squares = list(map(lambda x: x * x, nums))\n",
    "print(squares)"
   ]
  }
 ],
 "metadata": {
  "language_info": {
   "name": "python"
  }
 },
 "nbformat": 4,
 "nbformat_minor": 2
}
